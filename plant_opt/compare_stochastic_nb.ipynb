{
 "cells": [
  {
   "cell_type": "code",
   "id": "initial_id",
   "metadata": {
    "collapsed": true,
    "ExecuteTime": {
     "end_time": "2025-02-07T04:39:16.307400Z",
     "start_time": "2025-02-07T04:39:15.932794Z"
    }
   },
   "source": [
    "import pyomo.kernel as pmo\n",
    "import pandas as pd\n",
    "\n",
    "from plant_opt.models.plant_model_stages_recourse_stochastic_pyo import Plant\n"
   ],
   "outputs": [],
   "execution_count": 6
  },
  {
   "metadata": {},
   "cell_type": "markdown",
   "source": [
    "# Problem Overview\n",
    "\n",
    "Recommendation:\n",
    "- Review `compare_recourse_nb.ipynb` to understand the background, as the model in this case is a more complex version of the model in that notebook.\n",
    "- Review `plant_opt/models/plant_model_stages_pyo.py` to understand the deterministic version of the model, as the stochastic version builds on this model.\n",
    "\n",
    "The model is a (deliberately non-realistic) refinery model that takes in crude oil (light or heavy) and produces a configurable number of intermediate and output products.\n",
    "The refinery has a distillation unit that can take in a certain amount of crude oil to produce intermediate products, and refining units that can take in intermediate products to produce the final products.\n",
    "The ratios of inputs to intermediates, and intermediates to outputs are parameters passed to the constructor of the model: any desired \"production matrix\" can be specified.\n",
    "\n",
    "The model applies over \"stages\" in time (e.g. months), and the prices and demands for the final products are different in each stage.\n",
    "There is a constraint applied to the model that the amount of each output product produced in each stage cannot change by more than a certain amount from the previous stage.\n",
    "- This somewhat artificial constraint creates a time dependence, which makes the problem more interesting in the stochastic case, where the future is uncertain.\n",
    "\n",
    "The model is designed to optimize the production of the final products in each stage given the constraints of the distillation and refining units as well as:\n",
    "- the ratios of crude oil to intermediate products\n",
    "- the ratios of intermediate products to final products.\n",
    "- the prices of the inputs (light/heavy crude oil) and outputs.\n",
    "- The \"demands\" for the final products: above a certain amount, the product no longer has value."
   ],
   "id": "7c2a116375070730"
  },
  {
   "metadata": {},
   "cell_type": "markdown",
   "source": [
    "## Modelling Notes\n",
    "The stochastic model uses a \"scenario tree\" of node objects, that each contain values for the variables that can change over time; as well as links to child nodes that represent the possible future scenarios from that point.\n",
    "This model uses the pyomo kernel interface instead of the older \"environ\" interface, in order to create a model structure more closely associated with the scenario tree.\n",
    "Non-anticipativity constraints are implicit: decision variables are only created at notes where they can actually take different values (for non-recourse decisions, they exist at the root node and all non-terminal nodes beneath it, for recourse decisions, they exist at all the non-root nodes - reflecting how the decision is made after the information at that stage is known).\n",
    "All scenarios are assumed to be equally likely."
   ],
   "id": "6eb94ce5d25d35c2"
  },
  {
   "metadata": {},
   "cell_type": "markdown",
   "source": [
    "## Comparison to be made\n",
    "\n",
    "To investigate the value of the stochastic model, we will perform a comparison by:\n",
    " - Solve the model given the full scenario tree and see the objective value\n",
    " - replace the final stage nodes of the scenario tree with nodes that have the variable values set to the average value of the variable in that stage.\n",
    " - solve the model with these average values.\n",
    " - take the solved value of the import variables at the root node from the \"average\" model and apply it as a fixed value in the root node of the stochastic model.\n",
    " - solve the model again with these initial values applied, and see the objective value.\n",
    "The above can be repeated by going \"up a level\" in the scenario tree, creating an even more reduced model, and seeing how the objective value changes.\n",
    "\n"
   ],
   "id": "1e30440cfd44d8fa"
  },
  {
   "metadata": {},
   "cell_type": "markdown",
   "source": [
    "# Data Generation\n",
    "The `random_walk_tree_builder` function in `plant_opt/scenario_tree/tree.py` creates scenario trees by applying a random (drawn from a gaussian distribution, and limited by a cap value) change to the values of the variables at each stage.\n",
    "For this case, we will generate a tree with 4 stages, branching twice at each node.\n",
    "By setting the \"walk_max\" value to zero for the crude prices and product prices, we keep them the same throughout the tree; changing only the demands.\n",
    "\n"
   ],
   "id": "1990ca15c53c7be1"
  },
  {
   "metadata": {
    "ExecuteTime": {
     "end_time": "2025-02-07T04:37:17.872872Z",
     "start_time": "2025-02-07T04:37:17.782657Z"
    }
   },
   "cell_type": "code",
   "source": [
    "from plant_opt.scenario_tree.tree import random_walk_tree_builder\n",
    "\n",
    "stages = 4\n",
    "\n",
    "variables = [\n",
    "            \"crude_light_price\",\n",
    "            \"crude_heavy_price\",\n",
    "            \"prod_price_0\",\n",
    "            \"prod_price_1\",\n",
    "            \"prod_price_2\",\n",
    "            \"demand_0\",\n",
    "            \"demand_1\",\n",
    "            \"demand_2\",\n",
    "        ]\n",
    "\n",
    "root, all_nodes = random_walk_tree_builder(\n",
    "        variables,\n",
    "        [30, 20, 50, 40, 30, 400, 300, 200],\n",
    "        [1, 1, 1, 1, 1, 30, 30, 30],\n",
    "        [0, 0, 0, 0, 0, 60, 60, 60],\n",
    "        stages=stages,\n",
    "        branch_factor=2,\n",
    "        seed=42,\n",
    "        truncate_places=0,\n",
    "    )"
   ],
   "id": "8bad0722be4b9be8",
   "outputs": [
    {
     "name": "stdout",
     "output_type": "stream",
     "text": [
      "Adding child (root_0) to parent=root\n",
      "Now has children: ['root_0']\n",
      "Adding child (root_1) to parent=root\n",
      "Now has children: ['root_0', 'root_1']\n",
      "Adding child (root_0_0) to parent=root_0\n",
      "Now has children: ['root_0_0']\n",
      "Adding child (root_0_1) to parent=root_0\n",
      "Now has children: ['root_0_0', 'root_0_1']\n",
      "Adding child (root_1_0) to parent=root_1\n",
      "Now has children: ['root_1_0']\n",
      "Adding child (root_1_1) to parent=root_1\n",
      "Now has children: ['root_1_0', 'root_1_1']\n",
      "Adding child (root_0_0_0) to parent=root_0_0\n",
      "Now has children: ['root_0_0_0']\n",
      "Adding child (root_0_0_1) to parent=root_0_0\n",
      "Now has children: ['root_0_0_0', 'root_0_0_1']\n",
      "Adding child (root_0_1_0) to parent=root_0_1\n",
      "Now has children: ['root_0_1_0']\n",
      "Adding child (root_0_1_1) to parent=root_0_1\n",
      "Now has children: ['root_0_1_0', 'root_0_1_1']\n",
      "Adding child (root_1_0_0) to parent=root_1_0\n",
      "Now has children: ['root_1_0_0']\n",
      "Adding child (root_1_0_1) to parent=root_1_0\n",
      "Now has children: ['root_1_0_0', 'root_1_0_1']\n",
      "Adding child (root_1_1_0) to parent=root_1_1\n",
      "Now has children: ['root_1_1_0']\n",
      "Adding child (root_1_1_1) to parent=root_1_1\n",
      "Now has children: ['root_1_1_0', 'root_1_1_1']\n",
      "Root node: Node('root') has children [Node('root_0'), Node('root_1')]\n"
     ]
    }
   ],
   "execution_count": 3
  },
  {
   "metadata": {},
   "cell_type": "markdown",
   "source": "The following cell creates the averaged/truncated scenario trees:",
   "id": "2bc3dc3458af42bc"
  },
  {
   "metadata": {
    "ExecuteTime": {
     "end_time": "2025-02-07T04:37:23.292287Z",
     "start_time": "2025-02-07T04:37:23.287225Z"
    }
   },
   "cell_type": "code",
   "source": [
    "from collections import defaultdict\n",
    "from copy import deepcopy\n",
    "\n",
    "# Last stage averaged tree\n",
    "one_averaged_tree = deepcopy(all_nodes)\n",
    "# last two stages averaged tree\n",
    "two_averaged_tree = deepcopy(all_nodes)\n",
    "\n",
    "nodes_by_stage = defaultdict(list)\n",
    "for node in one_averaged_tree:\n",
    "    nodes_by_stage[node.stage].append(node)\n",
    "\n",
    "stages_list = list(range(stages))\n",
    "\n",
    "last_stage = stages_list[-1]\n",
    "\n",
    "avg_var_values = {}\n",
    "for var in variables:\n",
    "    avg_var_values[var] = sum([node.values[var] for node in nodes_by_stage[last_stage]]) / len(nodes_by_stage[last_stage])\n",
    "\n",
    "for node in nodes_by_stage[last_stage]:\n",
    "    for var in variables:\n",
    "        node.values[var] = avg_var_values[var]\n",
    "\n",
    "\n",
    "nodes_by_stage = defaultdict(list)\n",
    "for node in two_averaged_tree:\n",
    "    nodes_by_stage[node.stage].append(node)\n",
    "\n",
    "# Same as above, we also need to average the last stage for \"two_averaged_tree\"\n",
    "for node in nodes_by_stage[last_stage]:\n",
    "    for var in variables:\n",
    "        node.values[var] = avg_var_values[var]\n",
    "\n",
    "second_last_stage = stages_list[-2]\n",
    "avg_var_values = {}\n",
    "for var in variables:\n",
    "    avg_var_values[var] = sum([node.values[var] for node in nodes_by_stage[second_last_stage]]) / len(nodes_by_stage[second_last_stage])\n",
    "\n",
    "for node in nodes_by_stage[second_last_stage]:\n",
    "    for var in variables:\n",
    "        node.values[var] = avg_var_values[var]\n",
    "\n",
    "print(\"Initial tree:\")\n",
    "for node in all_nodes:\n",
    "    print(node.detail_str())\n",
    "\n",
    "print(\"One stage averaged tree:\")\n",
    "for node in one_averaged_tree:\n",
    "    print(node.detail_str())\n",
    "\n",
    "print(\"Two stage averaged tree:\")\n",
    "for node in two_averaged_tree:\n",
    "    print(node.detail_str())\n"
   ],
   "id": "a0166a1cb9c1d831",
   "outputs": [
    {
     "name": "stdout",
     "output_type": "stream",
     "text": [
      "Initial tree:\n",
      "Node(root, None, 0, {'crude_light_price': 30, 'crude_heavy_price': 20, 'prod_price_0': 50, 'prod_price_1': 40, 'prod_price_2': 30, 'demand_0': 400, 'demand_1': 300, 'demand_2': 200})\n",
      "Node(root_0, root, 1, {'crude_light_price': np.float64(30.0), 'crude_heavy_price': np.float64(20.0), 'prod_price_0': np.float64(50.0), 'prod_price_1': np.float64(40.0), 'prod_price_2': np.float64(30.0), 'demand_0': np.float64(361.0), 'demand_1': np.float64(304.0), 'demand_2': np.float64(191.0)})\n",
      "Node(root_1, root, 1, {'crude_light_price': np.float64(30.0), 'crude_heavy_price': np.float64(20.0), 'prod_price_0': np.float64(50.0), 'prod_price_1': np.float64(40.0), 'prod_price_2': np.float64(30.0), 'demand_0': np.float64(434.0), 'demand_1': np.float64(314.0), 'demand_2': np.float64(174.0)})\n",
      "Node(root_0_0, root_0, 2, {'crude_light_price': np.float64(30.0), 'crude_heavy_price': np.float64(20.0), 'prod_price_0': np.float64(50.0), 'prod_price_1': np.float64(40.0), 'prod_price_2': np.float64(30.0), 'demand_0': np.float64(341.0), 'demand_1': np.float64(341.0), 'demand_2': np.float64(186.0)})\n",
      "Node(root_0_1, root_0, 2, {'crude_light_price': np.float64(30.0), 'crude_heavy_price': np.float64(20.0), 'prod_price_0': np.float64(50.0), 'prod_price_1': np.float64(40.0), 'prod_price_2': np.float64(30.0), 'demand_0': np.float64(374.0), 'demand_1': np.float64(364.0), 'demand_2': np.float64(179.0)})\n",
      "Node(root_1_0, root_1, 2, {'crude_light_price': np.float64(30.0), 'crude_heavy_price': np.float64(20.0), 'prod_price_0': np.float64(50.0), 'prod_price_1': np.float64(40.0), 'prod_price_2': np.float64(30.0), 'demand_0': np.float64(409.0), 'demand_1': np.float64(289.0), 'demand_2': np.float64(194.0)})\n",
      "Node(root_1_1, root_1, 2, {'crude_light_price': np.float64(30.0), 'crude_heavy_price': np.float64(20.0), 'prod_price_0': np.float64(50.0), 'prod_price_1': np.float64(40.0), 'prod_price_2': np.float64(30.0), 'demand_0': np.float64(441.0), 'demand_1': np.float64(340.0), 'demand_2': np.float64(181.0)})\n",
      "Node(root_0_0_0, root_0_0, 3, {'crude_light_price': np.float64(30.0), 'crude_heavy_price': np.float64(20.0), 'prod_price_0': np.float64(50.0), 'prod_price_1': np.float64(40.0), 'prod_price_2': np.float64(30.0), 'demand_0': np.float64(331.0), 'demand_1': np.float64(327.0), 'demand_2': np.float64(167.0)})\n",
      "Node(root_0_0_1, root_0_0, 3, {'crude_light_price': np.float64(30.0), 'crude_heavy_price': np.float64(20.0), 'prod_price_0': np.float64(50.0), 'prod_price_1': np.float64(40.0), 'prod_price_2': np.float64(30.0), 'demand_0': np.float64(331.0), 'demand_1': np.float64(346.0), 'demand_2': np.float64(204.0)})\n",
      "Node(root_0_1_0, root_0_1, 3, {'crude_light_price': np.float64(30.0), 'crude_heavy_price': np.float64(20.0), 'prod_price_0': np.float64(50.0), 'prod_price_1': np.float64(40.0), 'prod_price_2': np.float64(30.0), 'demand_0': np.float64(368.0), 'demand_1': np.float64(326.0), 'demand_2': np.float64(145.0)})\n",
      "Node(root_0_1_1, root_0_1, 3, {'crude_light_price': np.float64(30.0), 'crude_heavy_price': np.float64(20.0), 'prod_price_0': np.float64(50.0), 'prod_price_1': np.float64(40.0), 'prod_price_2': np.float64(30.0), 'demand_0': np.float64(379.0), 'demand_1': np.float64(383.0), 'demand_2': np.float64(170.0)})\n",
      "Node(root_1_0_0, root_1_0, 3, {'crude_light_price': np.float64(30.0), 'crude_heavy_price': np.float64(20.0), 'prod_price_0': np.float64(50.0), 'prod_price_1': np.float64(40.0), 'prod_price_2': np.float64(30.0), 'demand_0': np.float64(424.0), 'demand_1': np.float64(275.0), 'demand_2': np.float64(194.0)})\n",
      "Node(root_1_0_1, root_1_0, 3, {'crude_light_price': np.float64(30.0), 'crude_heavy_price': np.float64(20.0), 'prod_price_0': np.float64(50.0), 'prod_price_1': np.float64(40.0), 'prod_price_2': np.float64(30.0), 'demand_0': np.float64(407.0), 'demand_1': np.float64(238.0), 'demand_2': np.float64(151.0)})\n",
      "Node(root_1_1_0, root_1_1, 3, {'crude_light_price': np.float64(30.0), 'crude_heavy_price': np.float64(20.0), 'prod_price_0': np.float64(50.0), 'prod_price_1': np.float64(40.0), 'prod_price_2': np.float64(30.0), 'demand_0': np.float64(480.0), 'demand_1': np.float64(329.0), 'demand_2': np.float64(203.0)})\n",
      "Node(root_1_1_1, root_1_1, 3, {'crude_light_price': np.float64(30.0), 'crude_heavy_price': np.float64(20.0), 'prod_price_0': np.float64(50.0), 'prod_price_1': np.float64(40.0), 'prod_price_2': np.float64(30.0), 'demand_0': np.float64(389.0), 'demand_1': np.float64(353.0), 'demand_2': np.float64(188.0)})\n",
      "One stage averaged tree:\n",
      "Node(root, None, 0, {'crude_light_price': 30, 'crude_heavy_price': 20, 'prod_price_0': 50, 'prod_price_1': 40, 'prod_price_2': 30, 'demand_0': 400, 'demand_1': 300, 'demand_2': 200})\n",
      "Node(root_0, root, 1, {'crude_light_price': np.float64(30.0), 'crude_heavy_price': np.float64(20.0), 'prod_price_0': np.float64(50.0), 'prod_price_1': np.float64(40.0), 'prod_price_2': np.float64(30.0), 'demand_0': np.float64(361.0), 'demand_1': np.float64(304.0), 'demand_2': np.float64(191.0)})\n",
      "Node(root_1, root, 1, {'crude_light_price': np.float64(30.0), 'crude_heavy_price': np.float64(20.0), 'prod_price_0': np.float64(50.0), 'prod_price_1': np.float64(40.0), 'prod_price_2': np.float64(30.0), 'demand_0': np.float64(434.0), 'demand_1': np.float64(314.0), 'demand_2': np.float64(174.0)})\n",
      "Node(root_0_0, root_0, 2, {'crude_light_price': np.float64(30.0), 'crude_heavy_price': np.float64(20.0), 'prod_price_0': np.float64(50.0), 'prod_price_1': np.float64(40.0), 'prod_price_2': np.float64(30.0), 'demand_0': np.float64(341.0), 'demand_1': np.float64(341.0), 'demand_2': np.float64(186.0)})\n",
      "Node(root_0_1, root_0, 2, {'crude_light_price': np.float64(30.0), 'crude_heavy_price': np.float64(20.0), 'prod_price_0': np.float64(50.0), 'prod_price_1': np.float64(40.0), 'prod_price_2': np.float64(30.0), 'demand_0': np.float64(374.0), 'demand_1': np.float64(364.0), 'demand_2': np.float64(179.0)})\n",
      "Node(root_1_0, root_1, 2, {'crude_light_price': np.float64(30.0), 'crude_heavy_price': np.float64(20.0), 'prod_price_0': np.float64(50.0), 'prod_price_1': np.float64(40.0), 'prod_price_2': np.float64(30.0), 'demand_0': np.float64(409.0), 'demand_1': np.float64(289.0), 'demand_2': np.float64(194.0)})\n",
      "Node(root_1_1, root_1, 2, {'crude_light_price': np.float64(30.0), 'crude_heavy_price': np.float64(20.0), 'prod_price_0': np.float64(50.0), 'prod_price_1': np.float64(40.0), 'prod_price_2': np.float64(30.0), 'demand_0': np.float64(441.0), 'demand_1': np.float64(340.0), 'demand_2': np.float64(181.0)})\n",
      "Node(root_0_0_0, root_0_0, 3, {'crude_light_price': np.float64(30.0), 'crude_heavy_price': np.float64(20.0), 'prod_price_0': np.float64(50.0), 'prod_price_1': np.float64(40.0), 'prod_price_2': np.float64(30.0), 'demand_0': np.float64(388.625), 'demand_1': np.float64(322.125), 'demand_2': np.float64(177.75)})\n",
      "Node(root_0_0_1, root_0_0, 3, {'crude_light_price': np.float64(30.0), 'crude_heavy_price': np.float64(20.0), 'prod_price_0': np.float64(50.0), 'prod_price_1': np.float64(40.0), 'prod_price_2': np.float64(30.0), 'demand_0': np.float64(388.625), 'demand_1': np.float64(322.125), 'demand_2': np.float64(177.75)})\n",
      "Node(root_0_1_0, root_0_1, 3, {'crude_light_price': np.float64(30.0), 'crude_heavy_price': np.float64(20.0), 'prod_price_0': np.float64(50.0), 'prod_price_1': np.float64(40.0), 'prod_price_2': np.float64(30.0), 'demand_0': np.float64(388.625), 'demand_1': np.float64(322.125), 'demand_2': np.float64(177.75)})\n",
      "Node(root_0_1_1, root_0_1, 3, {'crude_light_price': np.float64(30.0), 'crude_heavy_price': np.float64(20.0), 'prod_price_0': np.float64(50.0), 'prod_price_1': np.float64(40.0), 'prod_price_2': np.float64(30.0), 'demand_0': np.float64(388.625), 'demand_1': np.float64(322.125), 'demand_2': np.float64(177.75)})\n",
      "Node(root_1_0_0, root_1_0, 3, {'crude_light_price': np.float64(30.0), 'crude_heavy_price': np.float64(20.0), 'prod_price_0': np.float64(50.0), 'prod_price_1': np.float64(40.0), 'prod_price_2': np.float64(30.0), 'demand_0': np.float64(388.625), 'demand_1': np.float64(322.125), 'demand_2': np.float64(177.75)})\n",
      "Node(root_1_0_1, root_1_0, 3, {'crude_light_price': np.float64(30.0), 'crude_heavy_price': np.float64(20.0), 'prod_price_0': np.float64(50.0), 'prod_price_1': np.float64(40.0), 'prod_price_2': np.float64(30.0), 'demand_0': np.float64(388.625), 'demand_1': np.float64(322.125), 'demand_2': np.float64(177.75)})\n",
      "Node(root_1_1_0, root_1_1, 3, {'crude_light_price': np.float64(30.0), 'crude_heavy_price': np.float64(20.0), 'prod_price_0': np.float64(50.0), 'prod_price_1': np.float64(40.0), 'prod_price_2': np.float64(30.0), 'demand_0': np.float64(388.625), 'demand_1': np.float64(322.125), 'demand_2': np.float64(177.75)})\n",
      "Node(root_1_1_1, root_1_1, 3, {'crude_light_price': np.float64(30.0), 'crude_heavy_price': np.float64(20.0), 'prod_price_0': np.float64(50.0), 'prod_price_1': np.float64(40.0), 'prod_price_2': np.float64(30.0), 'demand_0': np.float64(388.625), 'demand_1': np.float64(322.125), 'demand_2': np.float64(177.75)})\n",
      "Two stage averaged tree:\n",
      "Node(root, None, 0, {'crude_light_price': 30, 'crude_heavy_price': 20, 'prod_price_0': 50, 'prod_price_1': 40, 'prod_price_2': 30, 'demand_0': 400, 'demand_1': 300, 'demand_2': 200})\n",
      "Node(root_0, root, 1, {'crude_light_price': np.float64(30.0), 'crude_heavy_price': np.float64(20.0), 'prod_price_0': np.float64(50.0), 'prod_price_1': np.float64(40.0), 'prod_price_2': np.float64(30.0), 'demand_0': np.float64(361.0), 'demand_1': np.float64(304.0), 'demand_2': np.float64(191.0)})\n",
      "Node(root_1, root, 1, {'crude_light_price': np.float64(30.0), 'crude_heavy_price': np.float64(20.0), 'prod_price_0': np.float64(50.0), 'prod_price_1': np.float64(40.0), 'prod_price_2': np.float64(30.0), 'demand_0': np.float64(434.0), 'demand_1': np.float64(314.0), 'demand_2': np.float64(174.0)})\n",
      "Node(root_0_0, root_0, 2, {'crude_light_price': np.float64(30.0), 'crude_heavy_price': np.float64(20.0), 'prod_price_0': np.float64(50.0), 'prod_price_1': np.float64(40.0), 'prod_price_2': np.float64(30.0), 'demand_0': np.float64(391.25), 'demand_1': np.float64(333.5), 'demand_2': np.float64(185.0)})\n",
      "Node(root_0_1, root_0, 2, {'crude_light_price': np.float64(30.0), 'crude_heavy_price': np.float64(20.0), 'prod_price_0': np.float64(50.0), 'prod_price_1': np.float64(40.0), 'prod_price_2': np.float64(30.0), 'demand_0': np.float64(391.25), 'demand_1': np.float64(333.5), 'demand_2': np.float64(185.0)})\n",
      "Node(root_1_0, root_1, 2, {'crude_light_price': np.float64(30.0), 'crude_heavy_price': np.float64(20.0), 'prod_price_0': np.float64(50.0), 'prod_price_1': np.float64(40.0), 'prod_price_2': np.float64(30.0), 'demand_0': np.float64(391.25), 'demand_1': np.float64(333.5), 'demand_2': np.float64(185.0)})\n",
      "Node(root_1_1, root_1, 2, {'crude_light_price': np.float64(30.0), 'crude_heavy_price': np.float64(20.0), 'prod_price_0': np.float64(50.0), 'prod_price_1': np.float64(40.0), 'prod_price_2': np.float64(30.0), 'demand_0': np.float64(391.25), 'demand_1': np.float64(333.5), 'demand_2': np.float64(185.0)})\n",
      "Node(root_0_0_0, root_0_0, 3, {'crude_light_price': np.float64(30.0), 'crude_heavy_price': np.float64(20.0), 'prod_price_0': np.float64(50.0), 'prod_price_1': np.float64(40.0), 'prod_price_2': np.float64(30.0), 'demand_0': np.float64(388.625), 'demand_1': np.float64(322.125), 'demand_2': np.float64(177.75)})\n",
      "Node(root_0_0_1, root_0_0, 3, {'crude_light_price': np.float64(30.0), 'crude_heavy_price': np.float64(20.0), 'prod_price_0': np.float64(50.0), 'prod_price_1': np.float64(40.0), 'prod_price_2': np.float64(30.0), 'demand_0': np.float64(388.625), 'demand_1': np.float64(322.125), 'demand_2': np.float64(177.75)})\n",
      "Node(root_0_1_0, root_0_1, 3, {'crude_light_price': np.float64(30.0), 'crude_heavy_price': np.float64(20.0), 'prod_price_0': np.float64(50.0), 'prod_price_1': np.float64(40.0), 'prod_price_2': np.float64(30.0), 'demand_0': np.float64(388.625), 'demand_1': np.float64(322.125), 'demand_2': np.float64(177.75)})\n",
      "Node(root_0_1_1, root_0_1, 3, {'crude_light_price': np.float64(30.0), 'crude_heavy_price': np.float64(20.0), 'prod_price_0': np.float64(50.0), 'prod_price_1': np.float64(40.0), 'prod_price_2': np.float64(30.0), 'demand_0': np.float64(388.625), 'demand_1': np.float64(322.125), 'demand_2': np.float64(177.75)})\n",
      "Node(root_1_0_0, root_1_0, 3, {'crude_light_price': np.float64(30.0), 'crude_heavy_price': np.float64(20.0), 'prod_price_0': np.float64(50.0), 'prod_price_1': np.float64(40.0), 'prod_price_2': np.float64(30.0), 'demand_0': np.float64(388.625), 'demand_1': np.float64(322.125), 'demand_2': np.float64(177.75)})\n",
      "Node(root_1_0_1, root_1_0, 3, {'crude_light_price': np.float64(30.0), 'crude_heavy_price': np.float64(20.0), 'prod_price_0': np.float64(50.0), 'prod_price_1': np.float64(40.0), 'prod_price_2': np.float64(30.0), 'demand_0': np.float64(388.625), 'demand_1': np.float64(322.125), 'demand_2': np.float64(177.75)})\n",
      "Node(root_1_1_0, root_1_1, 3, {'crude_light_price': np.float64(30.0), 'crude_heavy_price': np.float64(20.0), 'prod_price_0': np.float64(50.0), 'prod_price_1': np.float64(40.0), 'prod_price_2': np.float64(30.0), 'demand_0': np.float64(388.625), 'demand_1': np.float64(322.125), 'demand_2': np.float64(177.75)})\n",
      "Node(root_1_1_1, root_1_1, 3, {'crude_light_price': np.float64(30.0), 'crude_heavy_price': np.float64(20.0), 'prod_price_0': np.float64(50.0), 'prod_price_1': np.float64(40.0), 'prod_price_2': np.float64(30.0), 'demand_0': np.float64(388.625), 'demand_1': np.float64(322.125), 'demand_2': np.float64(177.75)})\n"
     ]
    }
   ],
   "execution_count": 4
  },
  {
   "metadata": {},
   "cell_type": "markdown",
   "source": "## Model Solving",
   "id": "7c783afdecf1f846"
  },
  {
   "metadata": {
    "ExecuteTime": {
     "end_time": "2025-02-07T04:39:25.149434Z",
     "start_time": "2025-02-07T04:39:25.147504Z"
    }
   },
   "cell_type": "code",
   "source": "opt = pmo.SolverFactory(\"glpk\")",
   "id": "f570a49444da3977",
   "outputs": [],
   "execution_count": 7
  },
  {
   "metadata": {
    "ExecuteTime": {
     "end_time": "2025-02-07T04:52:02.419272Z",
     "start_time": "2025-02-07T04:52:02.417298Z"
    }
   },
   "cell_type": "code",
   "source": [
    "# Some constants for all models\n",
    "crude_distil_cap = 1000\n",
    "products = 3\n",
    "crude_ratios = [[3, 1, 0], [1, 2, 1], [0, 1, 2]]\n",
    "refine_caps = [1000, 1000, 1000]\n",
    "product_ratios = [\n",
    "            [2, 1, 0.0],  # Amount of light product from l/m/h intermediates\n",
    "            [0.2, 1.0, 0.2],  # Amount of medium product from l/m/h intermediates\n",
    "            [0.0, 0.8, 2.0],  # Amount of heavy product from l/m/h intermediates\n",
    "        ]\n",
    "allowed_output_change = 20"
   ],
   "id": "58cdf73802ad745c",
   "outputs": [],
   "execution_count": 8
  },
  {
   "metadata": {
    "ExecuteTime": {
     "end_time": "2025-02-07T04:52:04.083973Z",
     "start_time": "2025-02-07T04:52:04.073623Z"
    }
   },
   "cell_type": "code",
   "source": [
    "p_full = Plant(\n",
    "        crude_distil_cap=crude_distil_cap,\n",
    "        products=products,\n",
    "        crude_ratios=crude_ratios,\n",
    "        refine_caps=refine_caps,\n",
    "        product_ratios=product_ratios,\n",
    "        stages=stages,\n",
    "        scenario_tree_root=root,\n",
    "        scenario_tree_all_nodes=all_nodes,\n",
    "        allowed_output_change=allowed_output_change,\n",
    "    )\n",
    "\n",
    "p_one_averaged = Plant(\n",
    "        crude_distil_cap=crude_distil_cap,\n",
    "        products=products,\n",
    "        crude_ratios=crude_ratios,\n",
    "        refine_caps=refine_caps,\n",
    "        product_ratios=product_ratios,\n",
    "        stages=stages,\n",
    "        scenario_tree_root=one_averaged_tree[0],\n",
    "        scenario_tree_all_nodes=one_averaged_tree,\n",
    "        allowed_output_change=allowed_output_change,\n",
    "    )\n",
    "\n",
    "p_two_averaged = Plant(\n",
    "        crude_distil_cap=crude_distil_cap,\n",
    "        products=products,\n",
    "        crude_ratios=crude_ratios,\n",
    "        refine_caps=refine_caps,\n",
    "        product_ratios=product_ratios,\n",
    "        stages=stages,\n",
    "        scenario_tree_root=two_averaged_tree[0],\n",
    "        scenario_tree_all_nodes=two_averaged_tree,\n",
    "        allowed_output_change=allowed_output_change,\n",
    "    )"
   ],
   "id": "60d8dbdfaff3e76b",
   "outputs": [],
   "execution_count": 9
  },
  {
   "metadata": {
    "ExecuteTime": {
     "end_time": "2025-02-07T04:53:53.563243Z",
     "start_time": "2025-02-07T04:53:53.533851Z"
    }
   },
   "cell_type": "code",
   "source": [
    "# Basic solving of the models\n",
    "result_df = pd.DataFrame(columns=[\"Model\", \"Objective Value\", \"Light Crude Import\", \"Heavy Crude Import\"])\n",
    "\n",
    "opt.solve(p_full.model)\n",
    "result_df.loc[0] = (\"Full Model\", pmo.value(p_full.model.obj), pmo.value(p_full.model.light_crude_import[root]), pmo.value(p_full.model.heavy_crude_import[root]))\n",
    "\n",
    "opt.solve(p_one_averaged.model)\n",
    "one_avg_root = one_averaged_tree[0]\n",
    "result_df.loc[1] = (\"One Stage Averaged\", pmo.value(p_one_averaged.model.obj), pmo.value(p_one_averaged.model.light_crude_import[one_avg_root]), pmo.value(p_one_averaged.model.heavy_crude_import[one_avg_root]))\n",
    "\n",
    "opt.solve(p_two_averaged.model)\n",
    "two_avg_root = two_averaged_tree[0]\n",
    "result_df.loc[2] = (\"Two Stage Averaged\", pmo.value(p_two_averaged.model.obj), pmo.value(p_two_averaged.model.light_crude_import[two_avg_root]), pmo.value(p_two_averaged.model.heavy_crude_import[two_avg_root]))"
   ],
   "id": "cc7c9ebd0327f1c1",
   "outputs": [],
   "execution_count": 13
  },
  {
   "metadata": {},
   "cell_type": "markdown",
   "source": "Now apply the values from the averaged models to the full model (fixing the initial value) and solve again to determine the objective value:",
   "id": "ee861f1a35b5451d"
  },
  {
   "metadata": {
    "ExecuteTime": {
     "end_time": "2025-02-07T04:55:19.995756Z",
     "start_time": "2025-02-07T04:55:19.975215Z"
    }
   },
   "cell_type": "code",
   "source": [
    "p_full.model.light_crude_import[root].fixed = True\n",
    "p_full.model.heavy_crude_import[root].fixed = True\n",
    "\n",
    "p_full.model.light_crude_import[root].value = pmo.value(p_one_averaged.model.light_crude_import[one_avg_root])\n",
    "p_full.model.heavy_crude_import[root].value = pmo.value(p_one_averaged.model.heavy_crude_import[one_avg_root])\n",
    "\n",
    "opt.solve(p_full.model)\n",
    "result_df.loc[3] = (\"Full Model with One Stage Averaged\", pmo.value(p_full.model.obj), pmo.value(p_full.model.light_crude_import[root]), pmo.value(p_full.model.heavy_crude_import[root]))\n",
    "\n",
    "p_full.model.light_crude_import[root].value = pmo.value(p_two_averaged.model.light_crude_import[two_avg_root])\n",
    "p_full.model.heavy_crude_import[root].value = pmo.value(p_two_averaged.model.heavy_crude_import[two_avg_root])\n",
    "\n",
    "opt.solve(p_full.model)\n",
    "result_df.loc[4] = (\"Full Model with Two Stage Averaged\", pmo.value(p_full.model.obj), pmo.value(p_full.model.light_crude_import[root]), pmo.value(p_full.model.heavy_crude_import[root]))"
   ],
   "id": "959b5e4f9b3860f2",
   "outputs": [],
   "execution_count": 16
  },
  {
   "metadata": {},
   "cell_type": "markdown",
   "source": "## Results",
   "id": "45cf36d8837b07d4"
  },
  {
   "metadata": {
    "ExecuteTime": {
     "end_time": "2025-02-07T04:56:14.703779Z",
     "start_time": "2025-02-07T04:56:14.698302Z"
    }
   },
   "cell_type": "code",
   "source": [
    "from IPython.display import display\n",
    "display(result_df)"
   ],
   "id": "3a6f87e466e5355e",
   "outputs": [
    {
     "data": {
      "text/plain": [
       "                                Model  Objective Value  Light Crude Import  \\\n",
       "0                          Full Model    102920.729167           17.333333   \n",
       "1                  One Stage Averaged    103054.801587           17.333333   \n",
       "2                  Two Stage Averaged    103285.970982           26.071429   \n",
       "3  Full Model with One Stage Averaged    102920.729167           17.333333   \n",
       "4  Full Model with Two Stage Averaged    102662.891865           26.071429   \n",
       "\n",
       "   Heavy Crude Import  \n",
       "0          154.777778  \n",
       "1          154.777778  \n",
       "2          138.785714  \n",
       "3          154.777778  \n",
       "4          138.785714  "
      ],
      "text/html": [
       "<div>\n",
       "<style scoped>\n",
       "    .dataframe tbody tr th:only-of-type {\n",
       "        vertical-align: middle;\n",
       "    }\n",
       "\n",
       "    .dataframe tbody tr th {\n",
       "        vertical-align: top;\n",
       "    }\n",
       "\n",
       "    .dataframe thead th {\n",
       "        text-align: right;\n",
       "    }\n",
       "</style>\n",
       "<table border=\"1\" class=\"dataframe\">\n",
       "  <thead>\n",
       "    <tr style=\"text-align: right;\">\n",
       "      <th></th>\n",
       "      <th>Model</th>\n",
       "      <th>Objective Value</th>\n",
       "      <th>Light Crude Import</th>\n",
       "      <th>Heavy Crude Import</th>\n",
       "    </tr>\n",
       "  </thead>\n",
       "  <tbody>\n",
       "    <tr>\n",
       "      <th>0</th>\n",
       "      <td>Full Model</td>\n",
       "      <td>102920.729167</td>\n",
       "      <td>17.333333</td>\n",
       "      <td>154.777778</td>\n",
       "    </tr>\n",
       "    <tr>\n",
       "      <th>1</th>\n",
       "      <td>One Stage Averaged</td>\n",
       "      <td>103054.801587</td>\n",
       "      <td>17.333333</td>\n",
       "      <td>154.777778</td>\n",
       "    </tr>\n",
       "    <tr>\n",
       "      <th>2</th>\n",
       "      <td>Two Stage Averaged</td>\n",
       "      <td>103285.970982</td>\n",
       "      <td>26.071429</td>\n",
       "      <td>138.785714</td>\n",
       "    </tr>\n",
       "    <tr>\n",
       "      <th>3</th>\n",
       "      <td>Full Model with One Stage Averaged</td>\n",
       "      <td>102920.729167</td>\n",
       "      <td>17.333333</td>\n",
       "      <td>154.777778</td>\n",
       "    </tr>\n",
       "    <tr>\n",
       "      <th>4</th>\n",
       "      <td>Full Model with Two Stage Averaged</td>\n",
       "      <td>102662.891865</td>\n",
       "      <td>26.071429</td>\n",
       "      <td>138.785714</td>\n",
       "    </tr>\n",
       "  </tbody>\n",
       "</table>\n",
       "</div>"
      ]
     },
     "metadata": {},
     "output_type": "display_data"
    }
   ],
   "execution_count": 17
  },
  {
   "metadata": {},
   "cell_type": "markdown",
   "source": [
    "Observations/Explanations:\n",
    "- The objective value of the \"averaged\" models is higher, as the model is no longer attempting to account for uncertainty in the relevant stages\n",
    "    - The model \"thinks\" that it can achieve higher value, which makes sense as there is no longer variation to account for\n",
    "- The objective value of the full model with the \"two stage averaged\" values is lower, which makes sense, as the model is \"locked in\" to a suboptimal decision (w.r.t the variance in outcomes).\n",
    "- Most interestingly, the objective value of the full model with the \"one stage averaged\" values is the exact same as the original full model:\n",
    "    - This is expected once we observe that the light/heavy crude import values are the same in the \"one stage averaged\" model as in the original full model.\n",
    "    - The implication here is that outcomes of the future stages are not having a large enough effect to matter at the first stage of the model.\n",
    "        - In the real world, time/money could be saved by not considering the farther future stages in the model, as the model would be re-solved at each point in time anyways as outcomes were realized.\n",
    "    - Future exploration could explore variations in the scenario tree to create situations where this is not the case - determine what circumstances are required for the future stages to matter at the first stage."
   ],
   "id": "9d18f84ab9bf85f1"
  }
 ],
 "metadata": {
  "kernelspec": {
   "display_name": "Python 3",
   "language": "python",
   "name": "python3"
  },
  "language_info": {
   "codemirror_mode": {
    "name": "ipython",
    "version": 2
   },
   "file_extension": ".py",
   "mimetype": "text/x-python",
   "name": "python",
   "nbconvert_exporter": "python",
   "pygments_lexer": "ipython2",
   "version": "2.7.6"
  }
 },
 "nbformat": 4,
 "nbformat_minor": 5
}
